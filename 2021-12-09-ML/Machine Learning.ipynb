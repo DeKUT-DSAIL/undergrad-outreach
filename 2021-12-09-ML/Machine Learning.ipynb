{
 "cells": [
  {
   "cell_type": "markdown",
   "id": "9bca3a50",
   "metadata": {},
   "source": [
    "## Introduction to Machine Learning\n",
    "AI, Data Science and Machine Learning are contributing tremendously to tech and developments in the modern era. They have changed how we live our everyday lives. Examples of applications integrating machine learning include:\n",
    "1. Recommendation systems on Youtube, Netflix.\n",
    "2. Self Driving cars.\n",
    "3. Face detection systems\n",
    "4. Virtual assistants such as Alexa, Siri\n",
    "\n",
    "\n",
    "Machine learning is a subfield of artificial intelligence (AI). The goal of machine learning generally is to understand the structure of data and fit that data into models that can be understood and utilized by people.\n",
    "\n",
    "Machine Learning can also be defined as the field of study that gives computers the ability to learn without being explicitly programmed. "
   ]
  },
  {
   "cell_type": "markdown",
   "id": "d8977523",
   "metadata": {},
   "source": [
    "The most essential aspects of machine learning are math, programming, libraries & modules and algorithms"
   ]
  },
  {
   "cell_type": "markdown",
   "id": "b2f773f5",
   "metadata": {},
   "source": [
    "#### Math\n",
    "Math is important when it comes to understanding some of the integral coding aspects involved in machine learning.\n",
    "\n",
    "Linear algebra, calculus (both integral and differential, but mostly the aspects of differentiation), probability, and statistics are the topics to focus on.\n",
    "\n",
    "The purpose for learning linear algebra, vectors and dimensional spaces, dot products, and their angular products, projections and unit vectors, other essential equations pertaining to all the major topics involved in 2-D and 3-Dimensional spaces such as circles, rectangles, spheres, etc.\n",
    "\n",
    "The main reason for you to focus on differential calculus is because of the topics like backpropagation which is extremely crucial to understand the concept of neural networks. Differentiation is vital for breaking down numerous concepts and topics from scratch and gain a more intuitive understanding of these algorithms, procedures, and computations exactly work.\n",
    "\n",
    "Machine learning involves a lot of uncertainty. Whether you are performing tasks like classification or regression, there is almost some amount of measure where the model is not confident about the possible outcome. For this reason, knowledge of probability is vital to break down the numerous concepts of machine learning. Also, it is important to note that topics and machine learning algorithms like Naïve Bayes algorithms require the use of probability to master the following ideas."
   ]
  },
  {
   "cell_type": "markdown",
   "id": "01a56424",
   "metadata": {},
   "source": [
    "#### Programming\n",
    "Learning programming for machine learning ensures you focus on areas such as manipulation of lists, dictionaries and understand the basics of python.\n",
    "\n",
    "Learning certain libraries and modules is useful for solving ML problems. Essential library modules include:\n",
    "- pandas : allows us to explore and analyse available data from our dataset.\n",
    "- matplotlib and seaborn are visualization tools for plotting your data points and visualizing our data."
   ]
  },
  {
   "cell_type": "markdown",
   "id": "ed0b8eb7",
   "metadata": {},
   "source": [
    "#### Algorithms\n",
    "Numerous algorithms have been developed and are available for users to create and construct ML models and projects. Some of the most used algorithms include:\n",
    "- Logistic Regression\n",
    "- Linear regression\n",
    "- Support Vector Machines\n",
    "- Naive Bayes\n",
    "- k-Nearest Neighbours\n",
    "- Random Forests"
   ]
  },
  {
   "cell_type": "markdown",
   "id": "b6420d91",
   "metadata": {},
   "source": [
    "### Types of Machine Learning\n",
    "There are 3 types of ML algorithms. They are based on how learning is received or how feedback on the learning is given to the system developed.\n",
    "1. Supervised Learning\n",
    "2. Unsupervised Learning\n",
    "3. Reinforcement Learning"
   ]
  },
  {
   "cell_type": "markdown",
   "id": "e3e31be7",
   "metadata": {},
   "source": [
    "### 1. Supervised Learning\n",
    "In supervised learning, the computer is provided with example inputs that are labeled with their desired outputs. The purpose of this method is for the algorithm to be able to “learn” by comparing its actual output with the “taught” outputs to find errors, and modify the model accordingly. Supervised learning therefore uses patterns to predict label values on additional unlabeled data.\n",
    "\n",
    "For example, with supervised learning, an algorithm may be fed data with images of sharks labeled as fish and images of oceans labeled as water. By being trained on this data, the supervised learning algorithm should be able to later identify unlabeled shark images as fish and unlabeled ocean images as water.\n",
    "\n",
    "\n",
    "Examples of Supervised Learning: Regression, Decision Tree, Random Forest, KNN, Logistic Regression etc."
   ]
  },
  {
   "cell_type": "markdown",
   "id": "173135f0",
   "metadata": {},
   "source": [
    "### 2. Unupervised Learning\n",
    "\n",
    "In unsupervised learning, data is unlabeled, so the learning algorithm is left to find commonalities among its input data. As unlabeled data are more abundant than labeled data, machine learning methods that facilitate unsupervised learning are particularly valuable.\n",
    "\n",
    "The goal of unsupervised learning may be as straightforward as discovering hidden patterns within a dataset, but it may also have a goal of feature learning, which allows the computational machine to automatically discover the representations that are needed to classify raw data.\n",
    "\n",
    "Examples of Unsupervised Learning:K-means."
   ]
  },
  {
   "cell_type": "markdown",
   "id": "35671e7c",
   "metadata": {},
   "source": [
    "### 3. Reinforcement Learning\n",
    "Reinforcement Learning(RL) is a type of machine learning technique that enables an agent to learn in an interactive environment by trial and error using feedback from its own actions and experiences.\n",
    "\n",
    "Examples of Reinforcement Learning: Q-learning, State Action Reward State Action(SARSA)"
   ]
  },
  {
   "cell_type": "markdown",
   "id": "670d13bb",
   "metadata": {},
   "source": [
    "### Linear Regression\n",
    "This is a supervised machine learning algorithm used to estimate real values(e.g. number of calls, cost of houses, total sales) based on continuous variables.\n",
    "\n",
    "We establist a relationship between dependent and independent variables by using a line of best fit. \n",
    "\n",
    "The line of best fit is known as the <b> regression line</b> and is represented by the equation: y = mx + c\n",
    "\n",
    "- y is the dependent variable\n",
    "- m is the slope\n",
    "- x is the independent variable\n",
    "- c is the y intercept\n",
    "\n",
    "The coefficients of m and c are derived based on minimizing the sum of squared difference between data points and the regression line."
   ]
  },
  {
   "cell_type": "markdown",
   "id": "1997c58d",
   "metadata": {},
   "source": [
    "The package <b>scikit-learn</b> is a widely used Python library for machine learning, built on top of NumPy and some other packages. It provides the means for preprocessing data, reducing dimensionality, implementing regression, classification, clustering, and more. Like NumPy, scikit-learn is also open source."
   ]
  },
  {
   "cell_type": "code",
   "execution_count": null,
   "id": "83f9019b",
   "metadata": {
    "scrolled": true
   },
   "outputs": [],
   "source": [
    "from sklearn import datasets, linear_model\n",
    "from sklearn.metrics import mean_squared_error, r2_score\n",
    "\n",
    "# Load the diabetes dataset\n",
    "diabetes_X, diabetes_y = datasets.load_diabetes(return_X_y=True)\n",
    "\n",
    "# Use only one feature\n",
    "diabetes_X = diabetes_X[:, np.newaxis, 2]\n",
    "\n",
    "# Split the data into training/testing sets\n",
    "diabetes_X_train = diabetes_X[:-20]\n",
    "diabetes_X_test = diabetes_X[-20:]\n",
    "\n",
    "# Split the targets into training/testing sets\n",
    "diabetes_y_train = diabetes_y[:-20]\n",
    "diabetes_y_test = diabetes_y[-20:]\n",
    "\n",
    "# Create linear regression object\n",
    "regr = linear_model.LinearRegression()\n",
    "\n",
    "# Train the model using the training sets\n",
    "regr.fit(diabetes_X_train, diabetes_y_train)\n",
    "\n",
    "# Make predictions using the testing set\n",
    "diabetes_y_pred = regr.predict(diabetes_X_test)\n",
    "\n",
    "# The coefficients\n",
    "print(\"Coefficients: \\n\", regr.coef_)\n",
    "# The mean squared error\n",
    "print(\"Mean squared error: %.2f\" % mean_squared_error(diabetes_y_test, diabetes_y_pred))\n",
    "# The coefficient of determination: 1 is perfect prediction\n",
    "print(\"Coefficient of determination: %.2f\" % r2_score(diabetes_y_test, diabetes_y_pred))\n",
    "\n",
    "# Plot outputs\n",
    "plt.scatter(diabetes_X_test, diabetes_y_test, color=\"black\")\n",
    "plt.plot(diabetes_X_test, diabetes_y_pred, color=\"blue\", linewidth=3)\n",
    "\n",
    "plt.xticks(())\n",
    "plt.yticks(())\n",
    "\n",
    "plt.show()\n"
   ]
  },
  {
   "cell_type": "markdown",
   "id": "609a4338",
   "metadata": {},
   "source": [
    "### Resources\n",
    "1. [Scikit-learn](https://scikit-learn.org/)"
   ]
  }
 ],
 "metadata": {
  "kernelspec": {
   "display_name": "Python 3 (ipykernel)",
   "language": "python",
   "name": "python3"
  },
  "language_info": {
   "codemirror_mode": {
    "name": "ipython",
    "version": 3
   },
   "file_extension": ".py",
   "mimetype": "text/x-python",
   "name": "python",
   "nbconvert_exporter": "python",
   "pygments_lexer": "ipython3",
   "version": "3.8.7"
  }
 },
 "nbformat": 4,
 "nbformat_minor": 5
}
