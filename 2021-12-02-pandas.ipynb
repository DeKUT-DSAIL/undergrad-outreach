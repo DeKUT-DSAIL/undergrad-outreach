{
 "cells": [
  {
   "attachments": {
    "dataframe.png": {
     "image/png": "[encoded data removed]"
    }
   },
   "cell_type": "markdown",
   "id": "19b4f9c7",
   "metadata": {},
   "source": [
    "## Pandas\n",
    "\n",
    "When working with tabular data, such as data stored in a spreadsheet or a database, pandas is the best tool to use. Pandas will help you explore, clean, and process your data. A data table in pandas is called a <b> DataFrame</b>. A DataFrame is defined by rows and columns.\n",
    "\n",
    "![dataframe.png](attachment:dataframe.png)\n",
    "\n",
    "\n",
    "To read or write this tabular data, you can use data from file formats such as csv, excel, json. You can also import data from these sources."
   ]
  },
  {
   "cell_type": "markdown",
   "id": "64d59fb7",
   "metadata": {},
   "source": [
    "### Creating objects\n",
    "You can also create a dataframe bypassing a list, NumPy array, a dictionary. A DataFrame can have different data types(float, str, boolean etc)"
   ]
  },
  {
   "cell_type": "code",
   "execution_count": null,
   "id": "ec16552d",
   "metadata": {},
   "outputs": [],
   "source": [
    "import numpy as np\n",
    "import pandas as pd\n",
    "import matplotlib.pyplot as plt"
   ]
  },
  {
   "cell_type": "code",
   "execution_count": null,
   "id": "8fe28fa3",
   "metadata": {
    "scrolled": true
   },
   "outputs": [],
   "source": [
    "#dataframe from list\n",
    "df = pd.Series([0, 1, 2, 'values', np.nan, 5.4])\n",
    "df"
   ]
  },
  {
   "cell_type": "code",
   "execution_count": null,
   "id": "d696057f",
   "metadata": {
    "scrolled": true
   },
   "outputs": [],
   "source": [
    "#dataframe from array of first 12 dates of the year\n",
    "df1 = pd.date_range('20210101', periods=12)\n",
    "df1"
   ]
  },
  {
   "cell_type": "markdown",
   "id": "cad7188a",
   "metadata": {},
   "source": [
    "### Viewing data\n"
   ]
  },
  {
   "cell_type": "code",
   "execution_count": null,
   "id": "847f4a77",
   "metadata": {},
   "outputs": [],
   "source": [
    "data = pd.read_csv('./sample.csv')\n",
    "\n",
    "#info about your csv\n",
    "data.info()\n"
   ]
  },
  {
   "cell_type": "code",
   "execution_count": null,
   "id": "9370bf30",
   "metadata": {
    "scrolled": true
   },
   "outputs": [],
   "source": [
    "#first five rows \n",
    "data.head()"
   ]
  },
  {
   "cell_type": "code",
   "execution_count": null,
   "id": "58fe1c53",
   "metadata": {
    "scrolled": true
   },
   "outputs": [],
   "source": [
    "data.loc[2]"
   ]
  },
  {
   "cell_type": "markdown",
   "id": "05df4a1c",
   "metadata": {},
   "source": [
    "### Selecting specific columns from a df\n",
    "Use square brackets [ ] with the column name you would like to select. Use a list of column names when selecting more than one column."
   ]
  },
  {
   "cell_type": "code",
   "execution_count": null,
   "id": "813134fd",
   "metadata": {
    "scrolled": true
   },
   "outputs": [],
   "source": [
    "#selecting specific columns\n",
    "one_column = data['type']\n",
    "one_column.head()"
   ]
  },
  {
   "cell_type": "code",
   "execution_count": null,
   "id": "229881fe",
   "metadata": {
    "scrolled": true
   },
   "outputs": [],
   "source": [
    "#selcting two columns or more\n",
    "two_columns = data[['cast', 'director']]\n",
    "two_columns.head()"
   ]
  },
  {
   "cell_type": "markdown",
   "id": "e34fbec6",
   "metadata": {},
   "source": [
    "### Filtering specific rows\n",
    "To select rows based on a conditional expression, use a condition inside the selection brackets. For example, if we would like an output with movies released in 2019"
   ]
  },
  {
   "cell_type": "code",
   "execution_count": null,
   "id": "503a7c5b",
   "metadata": {
    "scrolled": true
   },
   "outputs": [],
   "source": [
    "data['release_year'] == 2019"
   ]
  },
  {
   "cell_type": "code",
   "execution_count": null,
   "id": "d617c38a",
   "metadata": {
    "scrolled": true
   },
   "outputs": [],
   "source": [
    "movies_2019 = data[data['release_year'].isin([2019])]\n",
    "movies_2019.head()"
   ]
  },
  {
   "cell_type": "code",
   "execution_count": null,
   "id": "ad0ca63b",
   "metadata": {
    "scrolled": true
   },
   "outputs": [],
   "source": [
    "#visualization(line graph)\n",
    "data['release_year'].plot()"
   ]
  },
  {
   "cell_type": "code",
   "execution_count": null,
   "id": "f4e9be9d",
   "metadata": {
    "scrolled": true
   },
   "outputs": [],
   "source": [
    "#visualization\n",
    "data['release_year'].value_counts().plot(kind='bar')"
   ]
  },
  {
   "cell_type": "code",
   "execution_count": null,
   "id": "825ae107",
   "metadata": {
    "scrolled": true
   },
   "outputs": [],
   "source": [
    "#creating new columns\n",
    "data['rating'] = 2\n",
    "data.head(2)"
   ]
  },
  {
   "cell_type": "code",
   "execution_count": null,
   "id": "4c76fc30",
   "metadata": {
    "scrolled": true
   },
   "outputs": [],
   "source": [
    "#sorting values to reshape the layout of your dataframe\n",
    "\n",
    "data.sort_values(by='country').head()"
   ]
  },
  {
   "cell_type": "code",
   "execution_count": null,
   "id": "251b3db0",
   "metadata": {},
   "outputs": [],
   "source": [
    "#manipulating textual data\n",
    "data['director'].str.lower()"
   ]
  },
  {
   "cell_type": "markdown",
   "id": "3693f97a",
   "metadata": {},
   "source": [
    "### Resources\n",
    "1.[Pandas Documentation](https://pandas.pydata.org/pandas-docs/stable/index.html)"
   ]
  }
 ],
 "metadata": {
  "kernelspec": {
   "display_name": "Python 3 (ipykernel)",
   "language": "python",
   "name": "python3"
  },
  "language_info": {
   "codemirror_mode": {
    "name": "ipython",
    "version": 3
   },
   "file_extension": ".py",
   "mimetype": "text/x-python",
   "name": "python",
   "nbconvert_exporter": "python",
   "pygments_lexer": "ipython3",
   "version": "3.10.0"
  }
 },
 "nbformat": 4,
 "nbformat_minor": 5
}
