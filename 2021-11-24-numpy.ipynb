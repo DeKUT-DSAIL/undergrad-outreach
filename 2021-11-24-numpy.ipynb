{
 "cells": [
  {
   "cell_type": "markdown",
   "id": "8742f2e9",
   "metadata": {},
   "source": [
    "## NumPy\n",
    "\n",
    "NumPy is short for Numerical Python. It is a python module used for numerical computing, creating arrays and matrices and performing operations on those data structures.\n",
    "\n",
    "### Advantages of using NumPy\n",
    "1. Mathematical operations on numpy array objects are upto 50 times faster than iterating over python lists using loops. NumPy stores elements in an ordered location within memory thereby eliminating redundancies. It also uses fewer lines of code.\n",
    "2. It offers indexing for easily accessing portions of data within an array.\n",
    "3. It contains built in functions for linear algebra, array transformations, matrices, random number generation and fourier transforms.\n",
    "\n",
    "The core of NumPy is a multidimensional array object. We use <b>NumPy.array()</b> to create new numpy arrays"
   ]
  },
  {
   "cell_type": "code",
   "execution_count": null,
   "id": "55f0c044",
   "metadata": {
    "scrolled": true
   },
   "outputs": [],
   "source": [
    "import numpy as np\n",
    "\n",
    "#creating a numpy array with a list\n",
    "my_array = np.array([1,2,3,4,5])\n",
    "\n",
    "print(my_array)\n",
    "print(type(my_array))\n",
    "\n",
    "#creating a numpy array with a tuple\n",
    "#my_array = np.array((1,2,3,4,5))\n"
   ]
  },
  {
   "cell_type": "markdown",
   "id": "80093f12",
   "metadata": {},
   "source": [
    "You will occasionally hear arrays referred to as ndarray which means N-dimensional array.\n",
    "An N-dimensional array is an array with any number of dimensions. For example <b> 1-D </b>(one-dimensional array), <b> 2-D </b>(two-dimensional array)\n",
    "ndarray rpresents both matrices and vectors. A <b>vector</b> is an array with a single dimension while a <b>matrix</b> is an array with two dimensions.\n",
    "A 3-D array is called a tensor.\n",
    "\n"
   ]
  },
  {
   "cell_type": "code",
   "execution_count": null,
   "id": "c3d799e2",
   "metadata": {},
   "outputs": [],
   "source": [
    "#creating a 2D array\n",
    "a = np.array([[1,2,3], [4,5,6]])\n",
    "print(a)"
   ]
  },
  {
   "cell_type": "code",
   "execution_count": null,
   "id": "b3e473a1",
   "metadata": {},
   "outputs": [],
   "source": [
    "#accessing elements in an array\n",
    "print(a[0])"
   ]
  },
  {
   "cell_type": "code",
   "execution_count": null,
   "id": "a9e17f53",
   "metadata": {},
   "outputs": [],
   "source": [
    "#creating an array filled with zero's\n",
    "\n",
    "np.zeros(2)"
   ]
  },
  {
   "cell_type": "code",
   "execution_count": null,
   "id": "f6bd7b27",
   "metadata": {},
   "outputs": [],
   "source": [
    "#creating an array filled with ones's\n",
    "\n",
    "np.ones(4)"
   ]
  },
  {
   "cell_type": "code",
   "execution_count": null,
   "id": "08d596a2",
   "metadata": {},
   "outputs": [],
   "source": [
    "#creating an array with fixed values\n",
    "np.full((2,3),7)"
   ]
  },
  {
   "cell_type": "code",
   "execution_count": null,
   "id": "fa45724c",
   "metadata": {},
   "outputs": [],
   "source": [
    "#creating an array with a range of elements\n",
    "#specify the first number, last number and the step size\n",
    "\n",
    "np.arange(0,9,3)"
   ]
  },
  {
   "cell_type": "markdown",
   "id": "e45767bc",
   "metadata": {},
   "source": [
    "All arrays have a shape accessible using <b>.shape</b> and the dimensions of the array are accessible using <b>.ndim</b>"
   ]
  },
  {
   "cell_type": "code",
   "execution_count": null,
   "id": "3acc474e",
   "metadata": {},
   "outputs": [],
   "source": [
    "vector = np.arange(5)\n",
    "print(vector)\n",
    "print(\"Vector shape:\", vector.shape)\n",
    "print(\"Vector dimension:\", vector.ndim)\n"
   ]
  },
  {
   "cell_type": "code",
   "execution_count": null,
   "id": "714bd51f",
   "metadata": {},
   "outputs": [],
   "source": [
    "matrix = np.array(([3, 2]), dtype=np.int16)\n",
    "print(matrix)\n",
    "print(\"Matrix shape:\", matrix.shape)\n",
    "print(\"Matrix dimension:\", matrix.ndim)"
   ]
  },
  {
   "cell_type": "code",
   "execution_count": null,
   "id": "744aebd8",
   "metadata": {},
   "outputs": [],
   "source": [
    "tensor = np.zeros([2, 3, 3])\n",
    "print(tensor)\n",
    "print(\"Tensor shape:\", tensor.shape)\n",
    "print(\"Tensor dimension:\", tensor.ndim)"
   ]
  },
  {
   "cell_type": "code",
   "execution_count": null,
   "id": "ee562613",
   "metadata": {
    "scrolled": true
   },
   "outputs": [],
   "source": [
    "#creating values spaced linearly\n",
    "x = np.linspace(-5,5, num=10)\n",
    "print(x)"
   ]
  },
  {
   "cell_type": "code",
   "execution_count": null,
   "id": "d244d448",
   "metadata": {},
   "outputs": [],
   "source": [
    "#plotting arrays with matplotlib\n",
    "import matplotlib.pyplot as plt\n",
    "\n",
    "y = x ** 2\n",
    "plt.plot(x,y)\n",
    "plt.show()"
   ]
  },
  {
   "cell_type": "markdown",
   "id": "bdb658bc",
   "metadata": {},
   "source": [
    "### Resources\n",
    "1. [NumPy Documentation](https://numpy.org/doc/stable/index.html)"
   ]
  }
 ],
 "metadata": {
  "kernelspec": {
   "display_name": "Python 3 (ipykernel)",
   "language": "python",
   "name": "python3"
  },
  "language_info": {
   "codemirror_mode": {
    "name": "ipython",
    "version": 3
   },
   "file_extension": ".py",
   "mimetype": "text/x-python",
   "name": "python",
   "nbconvert_exporter": "python",
   "pygments_lexer": "ipython3",
   "version": "3.10.0"
  }
 },
 "nbformat": 4,
 "nbformat_minor": 5
}
