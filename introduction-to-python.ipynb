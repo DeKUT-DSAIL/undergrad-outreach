{
 "cells": [
  {
   "cell_type": "markdown",
   "id": "31f23185",
   "metadata": {},
   "source": [
    "## Introduction\n",
    "\n",
    "<b>Python</b> is a high level object oriented programming language created by Guido van Rossum and released in 1991. It's called a <b>general purpose programming</b> language because it is used in almost every domain you can think of. Examples of companies that use python include NASA, Netflix, Instagram, Google and Facebook.\n",
    "\n",
    "Python is ised in:\n",
    "1. <b>Web development</b> - python offers different frameworks for web deveopment like Flask, Django and Pyramid. \n",
    "2. <b>Game development</b> - python libraries used for game dvelopment include Pysoy and PyGame\n",
    "3. <b>Artificial Intelligence and Machine Learning</b> - python has alot of open-source libraries for AI/ML applications.\n",
    "4. <b>Data Analytics</b>\n",
    "5. <b>Software development</b>\n",
    "\n",
    "### Pros of using python\n",
    "1. Python works on different platforms (Windows, Linux, Raspberry Pi and Jetson nano)\n",
    "2. Python has a <b>simple syntax</b> similar to English making it easily readable and allowing developers to write programs with fewer lines of code.\n",
    "3. It is <b>free, open source</b> and it has many built-in and <b>pre-defined libraries</b> making a developer's job easy.\n",
    "4. Python is easy to learn and implement.\n",
    "5. Python runs on an <b>interpreter system</b>, meaning code can be executed as soon as it is written.\n",
    "\n",
    "### Cons of using python\n",
    "1. Python is <b>slower</b> than C or C++. C has compiled language. The complete source code is converted into a machine language which is easier for a computer to understand. Python on the other hand is interpreted. The interpreter reads each statement line by line. This makes python slower compared to C.\n",
    "2. Python's <b>memory consumption is high</b> therefore not a good choice for memory intensive tasks.\n",
    "3. Python has limitations with <b>database</b> access.\n",
    "4. Python requires more testing because it is <b>dynamically typed</b>.\n",
    "\n",
    "### Other IDE's you can use with python\n",
    "1. [Visual Studio](https://visualstudio.microsoft.com/)\n",
    "2. [Pycharm](https://www.jetbrains.com/pycharm/)\n",
    "3. [Spyder](https://www.spyder-ide.org/)\n",
    "4. [Atom](https://atom.io/)\n",
    "5. [Google Colab](https://research.google.com/colaboratory/)"
   ]
  },
  {
   "cell_type": "markdown",
   "id": "6b510d09",
   "metadata": {},
   "source": [
    "### Executing Python Syntax\n",
    "Python syntax can be executed directly in the command line. Python files are saved with <b>.py</b> extension and these files can also be run on the command line.\n"
   ]
  },
  {
   "cell_type": "code",
   "execution_count": null,
   "id": "b82a7894",
   "metadata": {},
   "outputs": [],
   "source": [
    "#simple example\n",
    "print(\"Hello World!\")"
   ]
  },
  {
   "cell_type": "markdown",
   "id": "5dd71b05",
   "metadata": {},
   "source": [
    "### Indentation.\n",
    "This refers to the spaces at the beginning of a code line. In other programming languages, indentation in code is for readability but in Python it's very important. Python uses indentation to indicate a block of code."
   ]
  },
  {
   "cell_type": "code",
   "execution_count": null,
   "id": "ac5308e4",
   "metadata": {},
   "outputs": [],
   "source": [
    "if 5 > 2:\n",
    "    print(\"Five is greater than 2.\")"
   ]
  },
  {
   "cell_type": "markdown",
   "id": "3b2ab87d",
   "metadata": {},
   "source": [
    "### Variables\n",
    "Variables are like containers used to store values. Python has no command for creating a variable. A variable is created once you assign a value to it. A variable can have a short name or a descriptive name.\n",
    "\n",
    "#### Rules for python variables.\n",
    "- A variable name must start with a letter or the underscore character\n",
    "- A variable name cannot start with a number\n",
    "- A variable name can only contain alpha-numeric characters and underscores (A-z, 0-9, and _ )\n",
    "- Variable names are case-sensitive (age, Age and AGE are three different variables)"
   ]
  },
  {
   "cell_type": "code",
   "execution_count": null,
   "id": "81b102a5",
   "metadata": {},
   "outputs": [],
   "source": [
    "#variables\n",
    "x = 10            \n",
    "my_variable = \"DSAIL\"\n",
    "print(x)\n",
    "print(my_variable)"
   ]
  },
  {
   "cell_type": "markdown",
   "id": "3efea1d6",
   "metadata": {},
   "source": [
    "### Data Types \n",
    "Data types represent the type of data we're dealing with and they include strings, integers, floating-point numbers, complex numbers, and boolean.\n",
    "\n"
   ]
  },
  {
   "cell_type": "markdown",
   "id": "f1438e81",
   "metadata": {},
   "source": [
    "#### Strings \n",
    "Strings are sequences of character data. Strings are written using either single or double quotes. All characters in the quotes are part of the string."
   ]
  },
  {
   "cell_type": "code",
   "execution_count": null,
   "id": "6fb54ac7",
   "metadata": {},
   "outputs": [],
   "source": [
    "#strings\n",
    "print(\"DSAIL\")\n",
    "print(type(\"DSAIL\"))"
   ]
  },
  {
   "cell_type": "markdown",
   "id": "4c9753f3",
   "metadata": {},
   "source": [
    "#### Integers\n",
    "There's no limit to how long an integer can be but this is constrained by your system's memory."
   ]
  },
  {
   "cell_type": "code",
   "execution_count": null,
   "id": "dcc613f2",
   "metadata": {},
   "outputs": [],
   "source": [
    "#integers\n",
    "print(type(2547687))"
   ]
  },
  {
   "cell_type": "markdown",
   "id": "f5137a46",
   "metadata": {},
   "source": [
    "#### Floating-point numbers\n",
    "Float values are specified with a decimal point. They could also be specified using scientific notation."
   ]
  },
  {
   "cell_type": "code",
   "execution_count": null,
   "id": "3d046a37",
   "metadata": {},
   "outputs": [],
   "source": [
    "#float\n",
    "print(type(4.2))\n",
    "print(type(.4e7))"
   ]
  },
  {
   "cell_type": "markdown",
   "id": "6f8eb819",
   "metadata": {},
   "source": [
    "#### Complex numbers\n",
    "Complex numbers are specified as (real part) + (imaginary part)j"
   ]
  },
  {
   "cell_type": "code",
   "execution_count": null,
   "id": "f14925d9",
   "metadata": {},
   "outputs": [],
   "source": [
    "# complex numbers\n",
    "print(type(2 + 3j))"
   ]
  },
  {
   "cell_type": "markdown",
   "id": "db337bde",
   "metadata": {},
   "source": [
    "#### Boolean\n",
    "Objects of boolean may have one of two values, True or False"
   ]
  },
  {
   "cell_type": "code",
   "execution_count": null,
   "id": "cdddf4ca",
   "metadata": {},
   "outputs": [],
   "source": [
    "print(type(True))\n",
    "print(type(False))"
   ]
  },
  {
   "cell_type": "markdown",
   "id": "1d58ef2c",
   "metadata": {},
   "source": [
    "### Data Structures\n",
    "\n",
    "Data structures are responsible for deciding how to store data in a computer's memory and they include lists, tuples, sets and dictionaries.\n",
    "\n",
    "Each data structure provides a particular way of organizing data so it can be accessed efficiently."
   ]
  },
  {
   "cell_type": "markdown",
   "id": "eee01917",
   "metadata": {},
   "source": [
    "#### Lists\n",
    "Lists are implemented as dynamic arrays. This means that a list allows elements to be added or removed.\n",
    "\n",
    "It automatically adjusts the backing store that holds the elements by allocating or releasing memory.\n",
    "\n",
    "A list can also hold different data types."
   ]
  },
  {
   "cell_type": "code",
   "execution_count": null,
   "id": "f68f2f44",
   "metadata": {},
   "outputs": [],
   "source": [
    "#lists\n",
    "my_list = [\"one\", \"two\", \"three\"]\n",
    "print(my_list)"
   ]
  },
  {
   "cell_type": "code",
   "execution_count": null,
   "id": "66835a0a",
   "metadata": {},
   "outputs": [],
   "source": [
    "my_list[0]"
   ]
  },
  {
   "cell_type": "code",
   "execution_count": null,
   "id": "fac2eeb3",
   "metadata": {},
   "outputs": [],
   "source": [
    "my_list[1] = \"four\"\n",
    "print(my_list)"
   ]
  },
  {
   "cell_type": "code",
   "execution_count": null,
   "id": "61f8ba32",
   "metadata": {},
   "outputs": [],
   "source": [
    "del my_list[2]\n",
    "print(my_list)"
   ]
  },
  {
   "cell_type": "markdown",
   "id": "6befe8df",
   "metadata": {},
   "source": [
    "#### Tuples\n",
    "Unlike lists, tuples are immutable. This means elements cannot be added or removed dynamically i.e. all elements in a tuple must be defined at creation time.\n",
    "\n",
    "Tuples are flexible since they can hold different data types."
   ]
  },
  {
   "cell_type": "code",
   "execution_count": null,
   "id": "51fb3e1d",
   "metadata": {},
   "outputs": [],
   "source": [
    "#tuples\n",
    "my_tuple = (\"one\", \"two\", \"three\")\n",
    "print(my_tuple)"
   ]
  },
  {
   "cell_type": "code",
   "execution_count": null,
   "id": "b5b19c7f",
   "metadata": {},
   "outputs": [],
   "source": [
    "my_tuple[0]"
   ]
  },
  {
   "cell_type": "code",
   "execution_count": null,
   "id": "9fe0d1e7",
   "metadata": {},
   "outputs": [],
   "source": [
    "#immutable\n",
    "my_tuple[1] = \"four\"\n",
    "print(my_tuple)"
   ]
  },
  {
   "cell_type": "code",
   "execution_count": null,
   "id": "72107646",
   "metadata": {},
   "outputs": [],
   "source": [
    "#second example\n",
    "del my_tuple[2]\n",
    "print(my_tuple)"
   ]
  },
  {
   "cell_type": "markdown",
   "id": "45b7249a",
   "metadata": {},
   "source": [
    "#### Sets\n",
    "A set is an unordered collection of objects that does not allow duplicate elements. Sets are use to quickly test a value for membership in the set, to insert or delete new values from a set and to compute the union or intersection of two sets."
   ]
  },
  {
   "cell_type": "code",
   "execution_count": null,
   "id": "24e7002e",
   "metadata": {},
   "outputs": [],
   "source": [
    "#sets\n",
    "vowels = {\"a\", \"e\", \"i\", \"o\", \"u\"}\n",
    "print(sorted(vowels))\n",
    "\n",
    "squares = {a * a for a in range(10)}\n",
    "print(sorted(squares))\n",
    "\n",
    "#\"e\" in vowels\n",
    "#vowels.add(\"x\")\n",
    "#len(vowels)"
   ]
  },
  {
   "cell_type": "markdown",
   "id": "771959da",
   "metadata": {},
   "source": [
    "#### Dictionaries\n",
    "Dictionaries are also often called maps, hashmaps, lookup tables, or associative arrays. They allow for the efficient lookup, insertion, and deletion of any object associated with a given key.\n",
    "\n",
    "A good example of a dictionary is a phone book. The keys are a person's name and values associated with each key are the phone numbers."
   ]
  },
  {
   "cell_type": "code",
   "execution_count": null,
   "id": "87a0159c",
   "metadata": {},
   "outputs": [],
   "source": [
    "#dictionaries\n",
    "\n",
    "phonebook = {\"bob\": 7387346, \"alice\": 3719255, \"jack\": 7052354}\n",
    "print(phonebook)"
   ]
  },
  {
   "cell_type": "code",
   "execution_count": null,
   "id": "fc6163f3",
   "metadata": {},
   "outputs": [],
   "source": [
    "phonebook[\"alice\"]"
   ]
  },
  {
   "cell_type": "markdown",
   "id": "308d711b",
   "metadata": {},
   "source": [
    "### Conditionals and loops\n",
    "These are a backbone for programming languages and python is not an exception."
   ]
  },
  {
   "cell_type": "code",
   "execution_count": null,
   "id": "3e9c8741",
   "metadata": {},
   "outputs": [],
   "source": [
    "#IF-ELIF-ELSE conditionals\n",
    "\n",
    "if(x < 10):\n",
    "    print(\"x is less than 10\")\n",
    "elif(x > 10):\n",
    "    print(\"x is greater than 10\")\n",
    "else:\n",
    "    print(\"Do nothing\")"
   ]
  },
  {
   "cell_type": "code",
   "execution_count": null,
   "id": "83904a46",
   "metadata": {},
   "outputs": [],
   "source": [
    "#FOR loop\n",
    "for i in \"Python\":\n",
    "    print(i)"
   ]
  },
  {
   "cell_type": "markdown",
   "id": "b2f59f2b",
   "metadata": {},
   "source": [
    "### Resources\n",
    "\n",
    "1. [Style guide for python code](https://www.python.org/dev/peps/pep-0008/#tabs-or-spaces)\n",
    "2. [Coursera](https://www.coursera.org/) - you can sign in using your school email and get to do one free course\n",
    "3. [Codecademy](https://www.codecademy.com/)\n",
    "4. [Datacamp](https://www.datacamp.com/)\n",
    "5. [Udemy](https://www.udemy.com/)\n",
    "6. [Udacity](https://www.udacity.com/)\n",
    "7. [Dataquest](https://www.dataquest.io/)\n",
    "8. [Zindi Africa](https://zindi.africa/) - Data Science competition platform."
   ]
  }
 ],
 "metadata": {
  "kernelspec": {
   "display_name": "Python 3 (ipykernel)",
   "language": "python",
   "name": "python3"
  },
  "language_info": {
   "codemirror_mode": {
    "name": "ipython",
    "version": 3
   },
   "file_extension": ".py",
   "mimetype": "text/x-python",
   "name": "python",
   "nbconvert_exporter": "python",
   "pygments_lexer": "ipython3",
   "version": "3.8.7"
  }
 },
 "nbformat": 4,
 "nbformat_minor": 5
}
